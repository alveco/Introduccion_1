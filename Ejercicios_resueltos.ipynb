{
  "nbformat": 4,
  "nbformat_minor": 0,
  "metadata": {
    "colab": {
      "provenance": [],
      "authorship_tag": "ABX9TyP0EdBO9lpda9vVl9rr/OIZ",
      "include_colab_link": true
    },
    "kernelspec": {
      "name": "python3",
      "display_name": "Python 3"
    },
    "language_info": {
      "name": "python"
    }
  },
  "cells": [
    {
      "cell_type": "markdown",
      "metadata": {
        "id": "view-in-github",
        "colab_type": "text"
      },
      "source": [
        "<a href=\"https://colab.research.google.com/github/alveco/Introduccion_1/blob/main/Ejercicios_resueltos.ipynb\" target=\"_parent\"><img src=\"https://colab.research.google.com/assets/colab-badge.svg\" alt=\"Open In Colab\"/></a>"
      ]
    },
    {
      "cell_type": "markdown",
      "source": [
        "# Ejercicios Resueltos\n"
      ],
      "metadata": {
        "id": "e5jOjyQq2ppR"
      }
    },
    {
      "cell_type": "markdown",
      "source": [
        "Nombres y Apellidos: Roberto Aldair Velasco Concha \n",
        "\n"
      ],
      "metadata": {
        "id": "GS_VwV9v2wqe"
      }
    },
    {
      "cell_type": "markdown",
      "source": [
        "# Modulo II"
      ],
      "metadata": {
        "id": "uMUg9gJX4ORF"
      }
    },
    {
      "cell_type": "markdown",
      "source": [
        "<b> Ejercicio 1</b>\n",
        "\n",
        "Imagina que un extraterrestre acaba de ser derribado en un juego. Cree una variable llamada alien_color y asígnele un valor de 'verde', 'amarillo' o 'rojo'.\n",
        "\n",
        "Escribe una declaración if para probar si el color del extraterrestre es verde. Si es así, imprime un mensaje de que el jugador acaba de ganar 5 puntos."
      ],
      "metadata": {
        "id": "4562QGA_2_Jq"
      }
    },
    {
      "cell_type": "code",
      "source": [
        "alien_color = input('Ingrese el color de tu alien: ')\n",
        "if alien_color == 'verde':\n",
        "  print('Ganaste 5 puntos')"
      ],
      "metadata": {
        "colab": {
          "base_uri": "https://localhost:8080/"
        },
        "id": "oSd-Iyfq3DRw",
        "outputId": "193816fc-99bb-4699-9483-97b5fe070794"
      },
      "execution_count": null,
      "outputs": [
        {
          "output_type": "stream",
          "name": "stdout",
          "text": [
            "Ingrese el color de tu alien: verde\n",
            "Ganaste 5 puntos\n"
          ]
        }
      ]
    },
    {
      "cell_type": "markdown",
      "source": [
        "# <b> Ejercicio 2</b>\n",
        "\n",
        "Elija un color para un extraterrestre como lo hizo en el Ejercicio anterior y escriba una cadena if-else.\n",
        "\n",
        "Si el alienígena es verde, imprime un mensaje de que el jugador obtuvo 5 puntos.\n",
        "Si el alienígena es amarillo, imprime un mensaje de que el jugador obtuvo 10 puntos.\n",
        "Si el alienígena es rojo, imprime un mensaje de que el jugador obtuvo 15 puntos."
      ],
      "metadata": {
        "id": "JkrhOluQ3T5F"
      }
    },
    {
      "cell_type": "code",
      "source": [
        "alien_color = input('Ingrese el color de tu alien: ')\n",
        "if alien_color == 'verde':\n",
        "  print('Ganaste 5 puntos')\n",
        "elif alien_color == 'amarillo' :\n",
        "  print('Ganaste 10 puntos')\n",
        "elif alien_color == 'rojo' :\n",
        "  print('Ganaste 15 puntos')"
      ],
      "metadata": {
        "colab": {
          "base_uri": "https://localhost:8080/"
        },
        "id": "1BpMA5bZ3XKb",
        "outputId": "b984283c-07f0-4b70-b9ba-a727ed68f3bc"
      },
      "execution_count": null,
      "outputs": [
        {
          "output_type": "stream",
          "name": "stdout",
          "text": [
            "Ingrese el color de tu alien: amarillo\n",
            "Ganaste 10 puntos\n"
          ]
        }
      ]
    },
    {
      "cell_type": "markdown",
      "source": [
        "<b> Ejercicio 1</b>\n",
        "\n",
        "Escriba un ciclo que solicite al usuario que ingrese una serie de ingredientes para la pizza hasta que ingrese un valor de 'salir'. A medida que ingresen cada ingrediente, imprima un mensaje que diga que agregará ese ingrediente a su pizza."
      ],
      "metadata": {
        "id": "BWKIiNL53hFt"
      }
    },
    {
      "cell_type": "code",
      "source": [
        "orden = '\\nIngrese el ingrediente para su pizza: '\n",
        "orden +='\\nEscribe salir para terminar su orden. '\n",
        "\n",
        "message = ''\n",
        "while True:\n",
        "     message = input(orden)\n",
        "     if message == 'salir':\n",
        "      break\n",
        "     else:\n",
        "          print(f'Se agregara {message} a su orden') "
      ],
      "metadata": {
        "colab": {
          "base_uri": "https://localhost:8080/"
        },
        "id": "peNoyv673hwd",
        "outputId": "e7e4f22f-221b-4b9f-a8a5-6c11a086c470"
      },
      "execution_count": null,
      "outputs": [
        {
          "name": "stdout",
          "output_type": "stream",
          "text": [
            "\n",
            "Ingrese el ingrediente para su pizza: \n",
            "Escribe salir para terminar su orden. peperoni \n",
            "Se agregara peperoni  a su orden\n",
            "\n",
            "Ingrese el ingrediente para su pizza: \n",
            "Escribe salir para terminar su orden. salir\n"
          ]
        }
      ]
    },
    {
      "cell_type": "markdown",
      "source": [
        "<b> Ejercicio 2</b>\n",
        "\n",
        "Un cine cobra diferentes precios de boletos dependiendo de la edad de una persona. Si una persona es menor de 3 años, la entrada es gratuita; si son entre 3 y 12, el boleto cuesta s/. 10; y si son mayores de 12 años, el boleto cuesta s/. 15. Escriba un ciclo en el que pregunte a los usuarios su edad y luego dígales el costo de su boleto de cine."
      ],
      "metadata": {
        "id": "rQQhwFTc3oOz"
      }
    },
    {
      "cell_type": "code",
      "source": [
        "message = int(input('Ingrese su edad: '))\n",
        "\n",
        "if message < 3:\n",
        "        print('Tu entrada es gratutita')\n",
        "elif 3 <= message <= 12 :\n",
        "        print('Tu entrada cuesta s/. 10.')\n",
        "elif  message > 12 :\n",
        "        print('Tu entrada cuesta s/. 15.') "
      ],
      "metadata": {
        "colab": {
          "base_uri": "https://localhost:8080/"
        },
        "id": "QmRLP_6c3sbN",
        "outputId": "def70cdc-a15b-4c07-bc70-4f33848c3906"
      },
      "execution_count": null,
      "outputs": [
        {
          "output_type": "stream",
          "name": "stdout",
          "text": [
            "Ingrese su edad: 15\n",
            "Tu entrada cuesta s/. 15.\n"
          ]
        }
      ]
    },
    {
      "cell_type": "markdown",
      "source": [
        "<b> Ejercicio 1</b>\n",
        "\n",
        "\n",
        "Piensa en al menos tres tipos de tu pizza favorita. Almacene estos nombres de pizza en una lista y luego use un ciclo for para imprimir el nombre de cada pizza.\n",
        "\n",
        "Modifique su ciclo for para imprimir una oración usando el nombre de la pizza en lugar de imprimir solo el nombre de la pizza. Para cada pizza, debe tener una línea de salida que contenga una declaración simple como Me gusta la pizza de pepperoni.\n",
        "Agregue una línea al final de su programa, fuera del bucle for, que indique cuánto le gusta la pizza. El resultado debe constar de tres o más líneas sobre los tipos de pizza que te gustan y luego una oración adicional, como ¡Me encanta la pizza!\n"
      ],
      "metadata": {
        "id": "2gIbze-E3wpb"
      }
    },
    {
      "cell_type": "code",
      "source": [
        "list_pizza = ['pepperoni' ,'queso', 'piña']\n",
        "\n",
        "for pizza in list_pizza:\n",
        "  print(pizza)"
      ],
      "metadata": {
        "colab": {
          "base_uri": "https://localhost:8080/"
        },
        "id": "9gDluk9N34Il",
        "outputId": "b39e7b17-25b9-4c9b-e176-707ea5e54883"
      },
      "execution_count": null,
      "outputs": [
        {
          "output_type": "stream",
          "name": "stdout",
          "text": [
            "pepperoni\n",
            "queso\n",
            "piña\n"
          ]
        }
      ]
    },
    {
      "cell_type": "code",
      "source": [
        "list_pizza = ['pepperoni' ,'queso', 'piña']\n",
        "\n",
        "for pizza in list_pizza: \n",
        "    print(f'Me gusta la pizza con {pizza}.')\n",
        "\n",
        "print('Amo mucho la pizza!!!')"
      ],
      "metadata": {
        "colab": {
          "base_uri": "https://localhost:8080/"
        },
        "id": "W4U9vesC3-0V",
        "outputId": "540e932b-c85e-49c2-d95c-5de9cd38418b"
      },
      "execution_count": null,
      "outputs": [
        {
          "output_type": "stream",
          "name": "stdout",
          "text": [
            "Me gusta la pizza con pepperoni.\n",
            "Me gusta la pizza con queso.\n",
            "Me gusta la pizza con piña.\n",
            "Amo mucho la pizza!!!\n"
          ]
        }
      ]
    },
    {
      "cell_type": "markdown",
      "source": [
        "<b> Ejercicio 2</b>\n",
        "\n",
        "Piensa en al menos tres animales diferentes que tengan una característica común. Guarde los nombres de estos animales en una lista y luego use un ciclo for para imprimir el nombre de cada animal.\n",
        "\n",
        "Modifique su programa para imprimir una declaración sobre cada animal, como Un perro sería una gran mascota.\n",
        "Agregue una línea al final de su programa indicando lo que estos animales tienen en común. Podría escribir una oración como ¡Cualquiera de estos animales sería una gran mascota!"
      ],
      "metadata": {
        "id": "NNikDxwq4AQz"
      }
    },
    {
      "cell_type": "code",
      "source": [
        "Favorite_pets = ['perros', 'gatos' , 'peces' ]\n",
        "\n",
        "for mascotas in Favorite_pets:\n",
        "  print(mascotas) "
      ],
      "metadata": {
        "colab": {
          "base_uri": "https://localhost:8080/"
        },
        "id": "w8i49G4V4C2j",
        "outputId": "5f49cfd0-d60a-4700-d303-57f3612e8e96"
      },
      "execution_count": null,
      "outputs": [
        {
          "output_type": "stream",
          "name": "stdout",
          "text": [
            "perros\n",
            "gatos\n",
            "peces\n"
          ]
        }
      ]
    },
    {
      "cell_type": "code",
      "source": [
        "Favorite_pets = ['perros', 'gatos' , 'peces' ]\n",
        "\n",
        "for mascotas in Favorite_pets:\n",
        "  print(f'Los {mascotas} son lindas mascotas.')\n",
        "  print(f'Los {mascotas} son animales domesticos.\\n' )\n",
        "\n",
        "print('¡Cualquiera de estos animales sería una gran mascota!')"
      ],
      "metadata": {
        "colab": {
          "base_uri": "https://localhost:8080/"
        },
        "id": "bqdSJQkJ4Hnn",
        "outputId": "4dc91c67-3b59-415c-a2b0-b77eb34fb2de"
      },
      "execution_count": null,
      "outputs": [
        {
          "output_type": "stream",
          "name": "stdout",
          "text": [
            "Los perros son lindas mascotas.\n",
            "Los perros son animales domesticos.\n",
            "\n",
            "Los gatos son lindas mascotas.\n",
            "Los gatos son animales domesticos.\n",
            "\n",
            "Los peces son lindas mascotas.\n",
            "Los peces son animales domesticos.\n",
            "\n",
            "¡Cualquiera de estos animales sería una gran mascota!\n"
          ]
        }
      ]
    },
    {
      "cell_type": "markdown",
      "source": [
        "#Modulo III"
      ],
      "metadata": {
        "id": "9syrEMXW4TNM"
      }
    },
    {
      "cell_type": "markdown",
      "source": [
        "<b> Ejercicio 2</b>\n",
        "\n",
        "Escriba una función llamada **make_album()** que cree un diccionario que describa un álbum de música. La función debe tomar el nombre de un artista y el título de un álbum, y debe devolver un diccionario que contenga estos dos datos. Utilice la función para crear tres diccionarios que representen diferentes álbumes. Imprima cada valor devuelto para mostrar que los diccionarios están almacenando la información del álbum correctamente.\n",
        "\n",
        "Use <b>None</b> para agregar un parámetro opcional a **make_album()** que le permita almacenar la cantidad de canciones en un álbum. Si la línea de llamada incluye un valor para la cantidad de canciones, agregue ese valor al diccionario del álbum. Realice al menos una nueva llamada de función que incluya la cantidad de canciones en un álbum."
      ],
      "metadata": {
        "id": "NX5oFFAD4WTn"
      }
    },
    {
      "cell_type": "code",
      "source": [
        "def make_album(artista, album):\n",
        "  \"\"\"Crea un diccionario que describe un album de musica\"\"\"\n",
        "  Dict_album = {'Artista': artista, 'Album': album}\n",
        "  return Dict_album"
      ],
      "metadata": {
        "id": "5e57_vst4qow"
      },
      "execution_count": null,
      "outputs": []
    },
    {
      "cell_type": "code",
      "source": [
        "make_album(artista = 'Hector lavoe', album = 'Comedia')"
      ],
      "metadata": {
        "colab": {
          "base_uri": "https://localhost:8080/"
        },
        "id": "kOBr8aX-4t3Y",
        "outputId": "e52eb920-fb8d-47ec-aa7f-9849846cd7a9"
      },
      "execution_count": null,
      "outputs": [
        {
          "output_type": "execute_result",
          "data": {
            "text/plain": [
              "{'Artista': 'Hector lavoe', 'Album': 'Comedia'}"
            ]
          },
          "metadata": {},
          "execution_count": 10
        }
      ]
    },
    {
      "cell_type": "code",
      "source": [
        "make_album(artista = 'Hector lavoe', album = 'El sabio')"
      ],
      "metadata": {
        "colab": {
          "base_uri": "https://localhost:8080/"
        },
        "id": "Dt4nYfK24wLe",
        "outputId": "28f832ee-260e-4955-a939-38cc9286fd0f"
      },
      "execution_count": null,
      "outputs": [
        {
          "output_type": "execute_result",
          "data": {
            "text/plain": [
              "{'Artista': 'Hector lavoe', 'Album': 'El sabio'}"
            ]
          },
          "metadata": {},
          "execution_count": 11
        }
      ]
    },
    {
      "cell_type": "code",
      "source": [
        "make_album(artista = 'Hector lavoe', album = 'La voz')"
      ],
      "metadata": {
        "colab": {
          "base_uri": "https://localhost:8080/"
        },
        "id": "gJ2XU5n-4yVm",
        "outputId": "28d031b2-8cfe-4506-b2d3-be6ed67d0aca"
      },
      "execution_count": null,
      "outputs": [
        {
          "output_type": "execute_result",
          "data": {
            "text/plain": [
              "{'Artista': 'Hector lavoe', 'Album': 'La voz'}"
            ]
          },
          "metadata": {},
          "execution_count": 12
        }
      ]
    },
    {
      "cell_type": "code",
      "source": [
        "def make_album(artista, album,canciones=None):\n",
        "  \"\"\"Crea un diccionario que describe un album de musica\"\"\"\n",
        "  Dict_album = {'Artista': artista, 'Album': album}\n",
        "  if canciones:\n",
        "    Dict_album['canciones'] = canciones\n",
        "  return Dict_album"
      ],
      "metadata": {
        "id": "4YIbvaxC40hG"
      },
      "execution_count": null,
      "outputs": []
    },
    {
      "cell_type": "code",
      "source": [
        "make_album(artista = 'Hector lavoe', album = 'La voz',canciones = 10)"
      ],
      "metadata": {
        "colab": {
          "base_uri": "https://localhost:8080/"
        },
        "id": "p16AGZ_X42hQ",
        "outputId": "066f08be-7155-4a61-ad76-558850096bd4"
      },
      "execution_count": null,
      "outputs": [
        {
          "output_type": "execute_result",
          "data": {
            "text/plain": [
              "{'Artista': 'Hector lavoe', 'Album': 'La voz', 'canciones': 10}"
            ]
          },
          "metadata": {},
          "execution_count": 14
        }
      ]
    },
    {
      "cell_type": "markdown",
      "source": [
        "<b> Ejercicio 3</b>\n",
        "\n",
        "Comience con su programa del ejercicio anterior. Escriba un ciclo while que permita a los usuarios ingresar el artista y el título de un álbum. Una vez que tenga esa información, llame a **make_album()** con la entrada del usuario e imprima el diccionario que se crea. Asegúrese de incluir un valor de salida en el ciclo while.\n"
      ],
      "metadata": {
        "id": "OjQIrKgl45iX"
      }
    },
    {
      "cell_type": "code",
      "source": [
        "def make_album(artista, album):\n",
        "  \"\"\"Crea un diccionario que describe un album de musica\"\"\"\n",
        "  Dict_album = {'Artista': artista, 'Album': album}\n",
        "  return Dict_album\n",
        "  \n",
        "  musico = make_album(Artist, Album)\n",
        "\n",
        "while True: \n",
        "    print(\"\\nIngrese el nombre de su artista:\")\n",
        "    print(\"Ingrese el nombre del album:\")\n",
        "    print(\"Ingrese quit para salir.\")\n",
        "\n",
        "    Artist = input('Artista:')\n",
        "    if Artist == 'quit' :\n",
        "      break\n",
        "\n",
        "    Album = input('Album:')\n",
        "    if Album == 'quit':\n",
        "      break\n",
        "    musico = make_album(Artist, Album)\n",
        "    print(musico)"
      ],
      "metadata": {
        "colab": {
          "base_uri": "https://localhost:8080/"
        },
        "id": "67aqW6le46Vm",
        "outputId": "81f0363e-19be-437f-c858-78acbd9b2a06"
      },
      "execution_count": null,
      "outputs": [
        {
          "name": "stdout",
          "output_type": "stream",
          "text": [
            "\n",
            "Ingrese el nombre de su artista:\n",
            "Ingrese el nombre del album:\n",
            "Ingrese quit para salir.\n",
            "Artista:Hector Lavoe \n",
            "Album:La voz\n",
            "{'Artista': 'Hector Lavoe ', 'Album': 'La voz'}\n",
            "\n",
            "Ingrese el nombre de su artista:\n",
            "Ingrese el nombre del album:\n",
            "Ingrese quit para salir.\n",
            "Artista:quit\n"
          ]
        }
      ]
    },
    {
      "cell_type": "markdown",
      "source": [
        "<b> Ejercicio 1</b>\n",
        "\n",
        "Haz una lista que contenga una serie de mensajes de texto cortos. Pase la lista a una función llamada **show_messages()**, que imprime cada mensaje de texto."
      ],
      "metadata": {
        "id": "56mlH0YIgDDO"
      }
    },
    {
      "cell_type": "code",
      "source": [
        "def mostrar_mensajes(mensajes):\n",
        "  for mensaje in mensajes:\n",
        "    print(f'\\n{mensaje}')"
      ],
      "metadata": {
        "id": "cEi_nwfXgFQ4"
      },
      "execution_count": null,
      "outputs": []
    },
    {
      "cell_type": "code",
      "source": [
        "mostrar_mensajes(['¿Todo bien?','¿Como estas?', 'Hola' ])"
      ],
      "metadata": {
        "colab": {
          "base_uri": "https://localhost:8080/"
        },
        "id": "vJgSdiKMgHnI",
        "outputId": "1dc41a93-049e-4ea7-c345-92ccc51866cd"
      },
      "execution_count": null,
      "outputs": [
        {
          "output_type": "stream",
          "name": "stdout",
          "text": [
            "\n",
            "¿Todo bien?\n",
            "\n",
            "¿Como estas?\n",
            "\n",
            "Hola\n"
          ]
        }
      ]
    },
    {
      "cell_type": "markdown",
      "source": [
        "<b> Ejercicio 2</b>\n",
        "\n",
        "Comience con una copia de su programa del Ejercicio anterior. Escriba una función llamada **send_messages()** que imprima cada mensaje de texto y mueva cada mensaje a una nueva lista llamada sent_messages a medida que se imprime. Después de llamar a la función, imprima ambas listas para asegurarse de que los mensajes se movieron correctamente."
      ],
      "metadata": {
        "id": "X2TLoWEYgKEU"
      }
    },
    {
      "cell_type": "markdown",
      "source": [
        "<b> Ejercicio 3</b>\n",
        "\n",
        "Comience con su trabajo del Ejercicio anterior. Llame a la función **send_messages()** con una copia de la lista de mensajes. Después de llamar a la función, imprima ambas listas para mostrar que la lista original ha conservado sus mensajes."
      ],
      "metadata": {
        "id": "JDxhP53fgOSv"
      }
    },
    {
      "cell_type": "code",
      "source": [
        "def mostrar_mensajes(mensajes):\n",
        "  for mensaje in mensajes:\n",
        "    print(f'\\n{mensaje}')\n",
        "\n",
        "def mensajes_enviados(mostrar_mensajes, sent_messages):\n",
        "    \"\"\"Esta funcion muestra los mensajes y los envia a la lista sent_messages\"\"\"\n",
        "    while mostrar_mensajes:\n",
        "        mensajes_mostrados = mostrar_mensajes.pop()\n",
        "        print(f\"Mensaje: {mensajes_mostrados}\")\n",
        "        sent_messages.append(mensajes_mostrados)\n",
        "\n",
        "def mensajes_recibidos(sent_messages):\n",
        "    \"\"\"Imprime los mensajes recibidos de la funcion mostrar_mensajes\"\"\"\n",
        "    print(\"\\nSe han recibido los siguientes mensajes:\")\n",
        "    for mensajes_enviados in sent_messages:\n",
        "      print(mensajes_enviados)\n"
      ],
      "metadata": {
        "id": "NJnL3tajgQvy"
      },
      "execution_count": null,
      "outputs": []
    },
    {
      "cell_type": "code",
      "source": [
        "mostrar_mensajes = ['¿Todo bien?','¿Como estas?', 'Hola']\n",
        "sent_messages = []"
      ],
      "metadata": {
        "id": "Gxl-KwXfgTiV"
      },
      "execution_count": null,
      "outputs": []
    },
    {
      "cell_type": "code",
      "source": [
        "mensajes_enviados(mostrar_mensajes, sent_messages)\n",
        "mensajes_recibidos(sent_messages)"
      ],
      "metadata": {
        "colab": {
          "base_uri": "https://localhost:8080/"
        },
        "id": "mx1Supn1gU4T",
        "outputId": "0ea8f89c-add4-4638-a55b-886dbb4bf852"
      },
      "execution_count": null,
      "outputs": [
        {
          "output_type": "stream",
          "name": "stdout",
          "text": [
            "Mensaje: Hola\n",
            "Mensaje: ¿Como estas?\n",
            "Mensaje: ¿Todo bien?\n",
            "\n",
            "Se han recibido los siguientes mensajes:\n",
            "Hola\n",
            "¿Como estas?\n",
            "¿Todo bien?\n"
          ]
        }
      ]
    },
    {
      "cell_type": "markdown",
      "source": [
        "# Modulo IV"
      ],
      "metadata": {
        "id": "3Ejax3Z51N2P"
      }
    },
    {
      "cell_type": "markdown",
      "source": [
        "<b> Ejercicio 4</b>\n",
        "\n",
        "Use el tercer argumento de la función range() para hacer una lista de los números impares del 1 al 20. Use un bucle for para imprimir cada número."
      ],
      "metadata": {
        "id": "x4D5idRQ1Rra"
      }
    },
    {
      "cell_type": "code",
      "source": [
        "[x for x in range (1,21,2)] "
      ],
      "metadata": {
        "colab": {
          "base_uri": "https://localhost:8080/"
        },
        "id": "LPO-VJnn1VEo",
        "outputId": "1a67c1e8-c6e6-4b45-d51c-4ed8cb89b372"
      },
      "execution_count": null,
      "outputs": [
        {
          "output_type": "execute_result",
          "data": {
            "text/plain": [
              "[1, 3, 5, 7, 9, 11, 13, 15, 17, 19]"
            ]
          },
          "metadata": {},
          "execution_count": 21
        }
      ]
    },
    {
      "cell_type": "markdown",
      "source": [
        "<b> Ejercicio 5</b>\n",
        "\n",
        "Haga una lista de los múltiplos de 3 de 3 a 30. Use un ciclo for para imprimir los números en su lista."
      ],
      "metadata": {
        "id": "_iVW28fp1ZNy"
      }
    },
    {
      "cell_type": "code",
      "source": [
        "[x for x in range(3,31,3) ]"
      ],
      "metadata": {
        "colab": {
          "base_uri": "https://localhost:8080/"
        },
        "id": "lABqmvVu1cE0",
        "outputId": "720cabf0-4ef7-4700-bc10-047336e36872"
      },
      "execution_count": null,
      "outputs": [
        {
          "output_type": "execute_result",
          "data": {
            "text/plain": [
              "[3, 6, 9, 12, 15, 18, 21, 24, 27, 30]"
            ]
          },
          "metadata": {},
          "execution_count": 22
        }
      ]
    },
    {
      "cell_type": "markdown",
      "source": [
        "<b> Ejercicio 6</b>\n",
        "\n",
        "Haga una lista de los primeros 10 cubos (es decir, el cubo de cada número entero del 1 al 10) y use un ciclo for para imprimir el valor de cada cubo."
      ],
      "metadata": {
        "id": "4MfxkAMJ1iaA"
      }
    },
    {
      "cell_type": "code",
      "source": [
        "cubos = [x**3 for x in range(1, 11)]\n",
        "print(cubos)"
      ],
      "metadata": {
        "colab": {
          "base_uri": "https://localhost:8080/"
        },
        "id": "lnjBnw9T1jRt",
        "outputId": "3a85eb8b-d723-4738-91e2-d0977f894921"
      },
      "execution_count": null,
      "outputs": [
        {
          "output_type": "stream",
          "name": "stdout",
          "text": [
            "[1, 8, 27, 64, 125, 216, 343, 512, 729, 1000]\n"
          ]
        }
      ]
    },
    {
      "cell_type": "markdown",
      "source": [
        "<b> Ejercicio 7</b>\n",
        "\n",
        "Use una lista de comprensión para generar una lista de los primeros 10 cubos.\n"
      ],
      "metadata": {
        "id": "jwF5iEZ-1mL5"
      }
    },
    {
      "cell_type": "code",
      "source": [
        "[x**3 for x in range(1, 11)]"
      ],
      "metadata": {
        "colab": {
          "base_uri": "https://localhost:8080/"
        },
        "id": "BYPZc5gf1oor",
        "outputId": "27850617-3323-450f-94fd-2b957023f636"
      },
      "execution_count": null,
      "outputs": [
        {
          "output_type": "execute_result",
          "data": {
            "text/plain": [
              "[1, 8, 27, 64, 125, 216, 343, 512, 729, 1000]"
            ]
          },
          "metadata": {},
          "execution_count": 24
        }
      ]
    },
    {
      "cell_type": "markdown",
      "source": [
        "<b> Ejercicio 2</b>\n",
        "\n",
        "Haga una copia de la lista de pizzas y llámela friend_pizzas. Luego, haz lo siguiente:\n",
        "\n",
        "* Agregue una nueva pizza a la lista original.\n",
        "* Agrega una pizza diferente a la lista friend_pizzas.\n",
        "* Demuestra que tienes dos listas separadas. Imprima el mensaje Mis pizzas favoritas son: y luego use un bucle for para imprimir la primera lista. Imprima el mensaje Las pizzas favoritas de mi amigo son: y luego use un bucle for para imprimir la segunda lista. Asegúrese de que cada pizza nueva se almacene en la lista adecuada."
      ],
      "metadata": {
        "id": "NMl2GSuZ4mKL"
      }
    },
    {
      "cell_type": "code",
      "source": [
        "pizzas = ['hawaiana', 'napolitana', 'peperoni']\n",
        "friend_pizzas = pizzas[:]"
      ],
      "metadata": {
        "id": "hIZGMWUR6K9p"
      },
      "execution_count": null,
      "outputs": []
    },
    {
      "cell_type": "code",
      "source": [
        "pizzas.append('champiñones')\n",
        "friend_pizzas.append('marinara')"
      ],
      "metadata": {
        "id": "8YmMqyWX6Lyt"
      },
      "execution_count": null,
      "outputs": []
    },
    {
      "cell_type": "code",
      "source": [
        "friend_pizzas"
      ],
      "metadata": {
        "colab": {
          "base_uri": "https://localhost:8080/"
        },
        "id": "FpmbjSD56NPI",
        "outputId": "040a7fce-e9f1-4f06-fe85-7f877f83b2fd"
      },
      "execution_count": null,
      "outputs": [
        {
          "output_type": "execute_result",
          "data": {
            "text/plain": [
              "['hawaiana', 'napolitana', 'peperoni', 'marinara']"
            ]
          },
          "metadata": {},
          "execution_count": 43
        }
      ]
    },
    {
      "cell_type": "code",
      "source": [
        "print('Mis pizzas favoritas son:')\n",
        "for pizza1 in pizzas[:]:\n",
        "  print(pizza1)\n",
        "print('Las pizzas favoritas de mi amigo son:')\n",
        "for pizza2 in friend_pizzas[:]:\n",
        "  print(pizza2)"
      ],
      "metadata": {
        "colab": {
          "base_uri": "https://localhost:8080/"
        },
        "id": "WphPhvcP6ljb",
        "outputId": "d69a308d-5d8c-43d8-92f7-a6afdf268e16"
      },
      "execution_count": null,
      "outputs": [
        {
          "output_type": "stream",
          "name": "stdout",
          "text": [
            "Mis pizzas favoritas son:\n",
            "hawaiana\n",
            "napolitana\n",
            "peperoni\n",
            "champiñones\n",
            "Las pizzas favoritas de mi amigo son:\n",
            "hawaiana\n",
            "napolitana\n",
            "peperoni\n",
            "marinara\n"
          ]
        }
      ]
    }
  ]
}